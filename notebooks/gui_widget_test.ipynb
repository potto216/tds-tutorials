{
 "cells": [
  {
   "cell_type": "code",
   "execution_count": 24,
   "metadata": {},
   "outputs": [],
   "source": [
    "import ipywidgets as widgets\n",
    "#https://towardsdatascience.com/bring-your-jupyter-notebook-to-life-with-interactive-widgets-bc12e03f0916\n",
    "from IPython.display import display"
   ]
  },
  {
   "cell_type": "markdown",
   "metadata": {},
   "source": [
    "Our goal is to understand the effect of the speed of a wave on how far it travels.\n",
    "\n",
    "If we define the time the wave is traveling as:\n",
    "\n",
    "\\begin{equation}\n",
    "\\Delta t=t_{end}-t_{start}\n",
    "\\end{equation}\n",
    "\n",
    "We can find the distance the wave travels given we know its speed (c) \n",
    "\\begin{equation}\n",
    "\td=c\\Delta t\n",
    "\\end{equation}\n",
    "\n",
    "This means for a round trip time\n",
    "\\begin{equation}\n",
    "\td=\\frac{c}{2}\\Delta t\n",
    "\\end{equation}\n",
    "\n",
    "The two types of waves we will be examining are ultrasound with a speed of:\n",
    "\\begin{equation}\n",
    "c_{ultrasound}=1,540 \\frac{m}{s}\n",
    "\\end{equation}\n",
    "\n",
    "\\begin{equation}\n",
    "c_{light}=299,792,458 \\frac{m}{s}\n",
    "\\end{equation}"
   ]
  },
  {
   "cell_type": "code",
   "execution_count": 25,
   "metadata": {},
   "outputs": [],
   "source": [
    "#Have a table to compare when the best time to use radar vs ultrasound (cross reference on the slides)\n",
    "speed_of_ultrasound_m_per_sec=1540 #In tissue\n",
    "speed_of_light_m_per_sec=299792458  #In a vacuum"
   ]
  },
  {
   "cell_type": "code",
   "execution_count": 30,
   "metadata": {},
   "outputs": [
    {
     "data": {
      "application/vnd.jupyter.widget-view+json": {
       "model_id": "55dcee9100cb4c8996b9b6b818b4ab36",
       "version_major": 2,
       "version_minor": 0
      },
      "text/plain": [
       "IntSlider(value=3, description='Time traveled (milliseconds):', max=1000, min=1, step=10)"
      ]
     },
     "metadata": {},
     "output_type": "display_data"
    }
   ],
   "source": [
    "time_traveled_slider = widgets.IntSlider(\n",
    "    min=1,\n",
    "    max=1000,\n",
    "    step=10,\n",
    "    description='Time traveled (milliseconds):',\n",
    "    value=3\n",
    ")\n",
    "\n",
    "display(time_traveled_slider)\n",
    "\n"
   ]
  },
  {
   "cell_type": "code",
   "execution_count": 31,
   "metadata": {
    "scrolled": true
   },
   "outputs": [
    {
     "name": "stdout",
     "output_type": "stream",
     "text": [
      "For a time of 0.061 the distance traveled for ultrasound is 93.94 m\n",
      "For a time of 0.061 the distance traveled for light is 18287339.938 m\n"
     ]
    }
   ],
   "source": [
    "t_sec = time_traveled_slider.value/1000\n",
    "print(f\"For a time of {t_sec} the distance traveled for ultrasound is {speed_of_ultrasound_m_per_sec*t_sec} m\")\n",
    "print(f\"For a time of {t_sec} the distance traveled for light is {speed_of_light_m_per_sec*t_sec} m\")"
   ]
  },
  {
   "cell_type": "markdown",
   "metadata": {},
   "source": [
    "Assume you have a car with both ultrasound and radar sensors. Your task is to design a system that can detect a car when it is 10 meters in front of your car. Don't forget about round trip time"
   ]
  },
  {
   "cell_type": "code",
   "execution_count": 27,
   "metadata": {},
   "outputs": [
    {
     "name": "stdout",
     "output_type": "stream",
     "text": [
      "The time required to receive an ultrasound signal from 10 meters away is: 0.012987012987012988 s\n",
      "The time required to receive a radar signal from 10 meters away is: 6.671281903963041e-08 s\n"
     ]
    }
   ],
   "source": [
    "d_m=10\n",
    "t_ultrasound_sec = 2*d_m/speed_of_ultrasound_m_per_sec\n",
    "t_radar_sec = 2*d_m/speed_of_light_m_per_sec\n",
    "print(f\"The time required to receive an ultrasound signal from 10 meters away is: {t_ultrasound_sec} s\")\n",
    "print(f\"The time required to receive a radar signal from 10 meters away is: {t_radar_sec} s\")"
   ]
  },
  {
   "cell_type": "markdown",
   "metadata": {},
   "source": [
    "Now lets look at how many instructions a CPU running at 600 megaflops can process"
   ]
  },
  {
   "cell_type": "code",
   "execution_count": 28,
   "metadata": {},
   "outputs": [
    {
     "name": "stdout",
     "output_type": "stream",
     "text": [
      "The number of flops a CPU can use to process the ultrasound signal is: 7792207 flops\n",
      "The number of flops a CPU can use to process the radar signal is: 40 flops\n"
     ]
    }
   ],
   "source": [
    "CPU_flops=600e6\n",
    "print(f\"The number of flops a CPU can use to process the ultrasound signal is: {int(CPU_flops*t_ultrasound_sec)} flops\")\n",
    "print(f\"The number of flops a CPU can use to process the radar signal is: {int(CPU_flops*t_radar_sec)} flops\")"
   ]
  },
  {
   "cell_type": "code",
   "execution_count": 29,
   "metadata": {},
   "outputs": [
    {
     "ename": "SyntaxError",
     "evalue": "invalid syntax (<ipython-input-29-88458c2cfbc7>, line 1)",
     "output_type": "error",
     "traceback": [
      "\u001b[0;36m  File \u001b[0;32m\"<ipython-input-29-88458c2cfbc7>\"\u001b[0;36m, line \u001b[0;32m1\u001b[0m\n\u001b[0;31m    Now lets look at the amount of power needed to transmit a signal\u001b[0m\n\u001b[0m        ^\u001b[0m\n\u001b[0;31mSyntaxError\u001b[0m\u001b[0;31m:\u001b[0m invalid syntax\n"
     ]
    }
   ],
   "source": [
    "Now lets look at the amount of power needed to transmit a signal "
   ]
  },
  {
   "cell_type": "code",
   "execution_count": null,
   "metadata": {},
   "outputs": [],
   "source": [
    "slider = widgets.IntSlider()\n",
    "text = widgets.IntText()\n",
    "display(slider, text)\n",
    "widgets.jslink((slider, 'value'), (text, 'value'))"
   ]
  },
  {
   "cell_type": "code",
   "execution_count": null,
   "metadata": {
    "scrolled": true
   },
   "outputs": [],
   "source": [
    "btn = widgets.Button(description='Medium')\n",
    "display(btn)\n",
    "def btn_eventhandler(obj):\n",
    "    print('Hello from the {} button!'.format(obj.description))\n",
    "btn.on_click(btn_eventhandler)"
   ]
  },
  {
   "cell_type": "code",
   "execution_count": null,
   "metadata": {},
   "outputs": [],
   "source": [
    "import pandas as pd\n",
    "import numpy as np\n",
    "url = \"https://data.london.gov.uk/download/number-international-visitors-london/b1e0f953-4c8a-4b45-95f5-e0d143d5641e/international-visitors-london-raw.csv\"\n",
    "df_london = pd.read_csv(url, encoding = 'iso-8859–1')"
   ]
  },
  {
   "cell_type": "code",
   "execution_count": null,
   "metadata": {},
   "outputs": [],
   "source": [
    "ALL = 'ALL'\n",
    "def unique_sorted_values_plus_ALL(array):\n",
    "    unique = array.unique().tolist()\n",
    "    unique.sort()\n",
    "    unique.insert(0, ALL)\n",
    "    return unique\n",
    "\n",
    "dropdown_year = widgets.Dropdown(options =    unique_sorted_values_plus_ALL(df_london.year))\n",
    "\n",
    "def dropdown_year_eventhandler(change):\n",
    "    if (change.new == ALL):\n",
    "        display(df_london)\n",
    "    else:\n",
    "        display(df_london[df_london.year == change.new])\n",
    "        \n",
    "dropdown_year.observe(dropdown_year_eventhandler, names='value')\n",
    "\n",
    "display(dropdown_year)"
   ]
  }
 ],
 "metadata": {
  "kernelspec": {
   "display_name": "Python 3",
   "language": "python",
   "name": "python3"
  },
  "language_info": {
   "codemirror_mode": {
    "name": "ipython",
    "version": 3
   },
   "file_extension": ".py",
   "mimetype": "text/x-python",
   "name": "python",
   "nbconvert_exporter": "python",
   "pygments_lexer": "ipython3",
   "version": "3.8.3"
  }
 },
 "nbformat": 4,
 "nbformat_minor": 4
}
