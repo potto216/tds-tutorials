{
 "cells": [
  {
   "cell_type": "code",
   "execution_count": 51,
   "metadata": {},
   "outputs": [],
   "source": [
    "import ipywidgets as widgets\n",
    "import numpy as np\n",
    "#https://towardsdatascience.com/bring-your-jupyter-notebook-to-life-with-interactive-widgets-bc12e03f0916\n",
    "from IPython.display import display\n",
    "\n",
    "#Have a table to compare when the best time to use radar vs ultrasound (cross reference on the slides)\n",
    "speed_of_ultrasound_m_per_sec={ 'tissue':1540, #In most tissue\n",
    "                                'water':1481, \n",
    "                                'air': 343\n",
    "                              }\n",
    "speed_of_light_m_per_sec={ 'air': 299792458 \n",
    "                              }  "
   ]
  },
  {
   "cell_type": "markdown",
   "metadata": {},
   "source": [
    "Our goal is to understand the effect of how the range of the speed of a wave on how far it travels and how that influences how many computation cycles we have to process to wave. the formulas are the same for ultrasound and radio waves."
   ]
  },
  {
   "cell_type": "markdown",
   "metadata": {},
   "source": [
    "Below find the range at which the nondirectional power density is less that 10 microwatts/m^2"
   ]
  },
  {
   "cell_type": "code",
   "execution_count": 60,
   "metadata": {},
   "outputs": [
    {
     "data": {
      "application/vnd.jupyter.widget-view+json": {
       "model_id": "a24460f143aa423e9167f484740642bc",
       "version_major": 2,
       "version_minor": 0
      },
      "text/plain": [
       "IntSlider(value=3, description='Range to target (m):', layout=Layout(height='80px', width='auto'), min=1, step…"
      ]
     },
     "metadata": {},
     "output_type": "display_data"
    }
   ],
   "source": [
    "from ipywidgets import Layout\n",
    "style = {'description_width': 'initial'}\n",
    "transmit_power_w = 1.0\n",
    "power_density_output = widgets.Output()\n",
    "range_m_slider = widgets.IntSlider(\n",
    "    min=1,\n",
    "    max=100,\n",
    "    step=10,\n",
    "    description='Range to target (m):',\n",
    "    value=3,\n",
    "    layout=Layout(width='auto', height='80px'),\n",
    "    style=style\n",
    ")\n",
    "\n",
    "def power_density_eventhandler(change):\n",
    "    power_density_output.clear_output()\n",
    "    with power_density_output:\n",
    "        range_m = range_m_slider.value\n",
    "        nondirection_power_density = transmit_power_w / (4*np.pi*pow(range_m,2))\n",
    "        print(f\"For a transmit power of {transmit_power_w:0.1f} W the amount of power reaching a target {range_m} m away is {nondirection_power_density:.3e} W/m^2\")\n",
    "        \n",
    "range_m_slider.observe(handler=power_density_eventhandler,type='change')\n",
    "display(range_m_slider)\n"
   ]
  },
  {
   "cell_type": "code",
   "execution_count": 61,
   "metadata": {
    "scrolled": true
   },
   "outputs": [
    {
     "data": {
      "application/vnd.jupyter.widget-view+json": {
       "model_id": "34fa86530c6946918b46cfbe844ee987",
       "version_major": 2,
       "version_minor": 0
      },
      "text/plain": [
       "Output()"
      ]
     },
     "metadata": {},
     "output_type": "display_data"
    }
   ],
   "source": [
    "display(power_density_output)"
   ]
  },
  {
   "cell_type": "markdown",
   "metadata": {},
   "source": [
    "Now using the range you computed determine what antenna gain is needed to increase the power to 1 milliwatt/m^2. Start by entering the range in `range_m` then run the cell."
   ]
  },
  {
   "cell_type": "code",
   "execution_count": 69,
   "metadata": {
    "scrolled": true
   },
   "outputs": [
    {
     "data": {
      "application/vnd.jupyter.widget-view+json": {
       "model_id": "afcb5c0a71cb48faa04b0ad5f43db46f",
       "version_major": 2,
       "version_minor": 0
      },
      "text/plain": [
       "IntSlider(value=3, description='Antenna gain:', layout=Layout(height='80px', width='auto'), min=1, step=10, st…"
      ]
     },
     "metadata": {},
     "output_type": "display_data"
    }
   ],
   "source": [
    "style = {'description_width': 'initial'}\n",
    "range_m = 1\n",
    "directional_power_density_output = widgets.Output()\n",
    "antenna_gain_slider = widgets.IntSlider(\n",
    "    min=1,\n",
    "    max=100,\n",
    "    step=10,\n",
    "    description='Antenna gain:',\n",
    "    value=3,\n",
    "    layout=Layout(width='auto', height='80px'),\n",
    "    style=style\n",
    ")\n",
    "\n",
    "def directional_power_density_eventhandler(change):\n",
    "    directional_power_density_output.clear_output()\n",
    "    with directional_power_density_output:\n",
    "        antenna_gain = antenna_gain_slider.value\n",
    "        directional_power_density = antenna_gain*transmit_power_w / (4*np.pi*pow(range_m,2))\n",
    "        print(f\"For an antenna gain of {antenna_gain:0.1f} and transmit power {transmit_power_w:0.1f} W the amount of power reaching a target {range_m} m away is {directional_power_density:.3e} W/m^2\")\n",
    "        \n",
    "antenna_gain_slider.observe(handler=directional_power_density_eventhandler,type='change')\n",
    "display(antenna_gain_slider)\n"
   ]
  },
  {
   "cell_type": "code",
   "execution_count": 70,
   "metadata": {},
   "outputs": [
    {
     "data": {
      "application/vnd.jupyter.widget-view+json": {
       "model_id": "ff4f5388b6c34be6bced3130619236e0",
       "version_major": 2,
       "version_minor": 0
      },
      "text/plain": [
       "Output()"
      ]
     },
     "metadata": {},
     "output_type": "display_data"
    }
   ],
   "source": [
    "display(directional_power_density_output)"
   ]
  }
 ],
 "metadata": {
  "kernelspec": {
   "display_name": "Python 3",
   "language": "python",
   "name": "python3"
  },
  "language_info": {
   "codemirror_mode": {
    "name": "ipython",
    "version": 3
   },
   "file_extension": ".py",
   "mimetype": "text/x-python",
   "name": "python",
   "nbconvert_exporter": "python",
   "pygments_lexer": "ipython3",
   "version": "3.8.3"
  }
 },
 "nbformat": 4,
 "nbformat_minor": 4
}
