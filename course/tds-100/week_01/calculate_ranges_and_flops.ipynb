{
 "cells": [
  {
   "cell_type": "code",
   "execution_count": 35,
   "metadata": {},
   "outputs": [],
   "source": [
    "import ipywidgets as widgets\n",
    "#https://towardsdatascience.com/bring-your-jupyter-notebook-to-life-with-interactive-widgets-bc12e03f0916\n",
    "from IPython.display import display\n",
    "\n",
    "#Have a table to compare when the best time to use radar vs ultrasound (cross reference on the slides)\n",
    "speed_of_ultrasound_m_per_sec={ 'tissue':1540, #In most tissue\n",
    "                                'water':1481, \n",
    "                                'air': 343\n",
    "                              }\n",
    "speed_of_light_m_per_sec={ 'air': 299792458 \n",
    "                              }  "
   ]
  },
  {
   "cell_type": "markdown",
   "metadata": {},
   "source": [
    "Our goal is to understand the effect of the speed of a wave on how far it travels and how that influences how many computation \n",
    "\n",
    "If we define the time the wave is traveling as:\n",
    "\n",
    "\\begin{equation}\n",
    "\\Delta t=t_{end}-t_{start}\n",
    "\\end{equation}\n",
    "\n",
    "We can find the distance the wave travels given we know its speed (c) \n",
    "\\begin{equation}\n",
    "\td=c\\Delta t\n",
    "\\end{equation}\n",
    "\n",
    "This means for a round trip time\n",
    "\\begin{equation}\n",
    "\td=\\frac{c}{2}\\Delta t\n",
    "\\end{equation}\n",
    "\n",
    "The two types of waves we will be examining are ultrasound and radio waves. In air ultrasound has a  speed of:\n",
    "\\begin{equation}\n",
    "c_{ultrasound}=343 \\frac{m}{s}\n",
    "\\end{equation}\n",
    "\n",
    "while radio waves have a speed of:\n",
    "\\begin{equation}\n",
    "c_{light}=299,792,458 \\frac{m}{s}\n",
    "\\end{equation}"
   ]
  },
  {
   "cell_type": "markdown",
   "metadata": {},
   "source": [
    "Below find the time it would take for an ultrasound wave to travel 10 meters (+/- 1m). Compare this distance with the distance radio waves would travel. What is the ratio of the difference?"
   ]
  },
  {
   "cell_type": "code",
   "execution_count": 44,
   "metadata": {},
   "outputs": [
    {
     "data": {
      "application/vnd.jupyter.widget-view+json": {
       "model_id": "f5f790dc93df4076a6ae9be83c08fea9",
       "version_major": 2,
       "version_minor": 0
      },
      "text/plain": [
       "IntSlider(value=3, description='Time traveled (milliseconds):', layout=Layout(height='80px', width='auto'), mi…"
      ]
     },
     "metadata": {},
     "output_type": "display_data"
    }
   ],
   "source": [
    "from ipywidgets import Layout\n",
    "style = {'description_width': 'initial'}\n",
    "\n",
    "time_traveled_output = widgets.Output()\n",
    "time_traveled_slider = widgets.IntSlider(\n",
    "    min=1,\n",
    "    max=100,\n",
    "    step=10,\n",
    "    description='Time traveled (milliseconds):',\n",
    "    value=3,\n",
    "    layout=Layout(width='auto', height='80px'),\n",
    "    style=style\n",
    ")\n",
    "\n",
    "def time_traveled_eventhandler(change):\n",
    "    time_traveled_output.clear_output()\n",
    "    with time_traveled_output:\n",
    "        t_milliseconds = time_traveled_slider.value\n",
    "        t_sec = t_milliseconds/1000\n",
    "        print(f\"For a time of {t_milliseconds} milliseconds the distance traveled for ultrasound is {(speed_of_ultrasound_m_per_sec['air']*t_sec):.1f} m\")\n",
    "        print(f\"For a time of {t_milliseconds} milliseconds the distance traveled for light is {(speed_of_light_m_per_sec['air']*t_sec):.1f} m\")\n",
    "        \n",
    "time_traveled_slider.observe(handler=time_traveled_eventhandler,type='change')\n",
    "display(time_traveled_slider)\n"
   ]
  },
  {
   "cell_type": "code",
   "execution_count": 45,
   "metadata": {
    "scrolled": true
   },
   "outputs": [
    {
     "data": {
      "application/vnd.jupyter.widget-view+json": {
       "model_id": "d051f0f2db304cedb255832171e84cd6",
       "version_major": 2,
       "version_minor": 0
      },
      "text/plain": [
       "Output()"
      ]
     },
     "metadata": {},
     "output_type": "display_data"
    }
   ],
   "source": [
    "display(time_traveled_output)"
   ]
  },
  {
   "cell_type": "markdown",
   "metadata": {},
   "source": [
    "Assume you have a car with both ultrasound and radar sensors. Your task is to design a system that can detect a car when it is 10 meters in front of your car. Change the variables `t_ultrasound_sec` and `t_radar_sec` in the cell below to the correct values for a 20 meter round trip time."
   ]
  },
  {
   "cell_type": "code",
   "execution_count": 48,
   "metadata": {
    "scrolled": true
   },
   "outputs": [
    {
     "name": "stdout",
     "output_type": "stream",
     "text": [
      "An ultrasound signal completes a round trip distance of 34.3 meters in 0.1 seconds.\n",
      "A radar signal completes a round trip distance of 29979245.8 meters in 0.1 seconds.\n"
     ]
    }
   ],
   "source": [
    "t_ultrasound_sec=0.1 \n",
    "t_radar_sec=0.1\n",
    "\n",
    "#Do not change anything below this line\n",
    "d_m=10.0\n",
    "d_ultrasound_m = t_ultrasound_sec*speed_of_ultrasound_m_per_sec['air']\n",
    "d_radar_m = t_radar_sec*speed_of_light_m_per_sec['air']\n",
    "print(f\"An ultrasound signal completes a round trip distance of {d_ultrasound_m:.1f} meters in {t_ultrasound_sec} seconds.\")\n",
    "print(f\"A radar signal completes a round trip distance of {d_radar_m:.1f} meters in {t_ultrasound_sec} seconds.\")"
   ]
  },
  {
   "cell_type": "markdown",
   "metadata": {},
   "source": [
    "In this final section lets look at how many instructions a CPU that can complete 600 megaflops in a second can process. Which signal is the easiest to perform signal processing on and by what factor? Later we will investigate what level of processing can be completed by common algorihms such as the Fast Fourier Transform."
   ]
  },
  {
   "cell_type": "code",
   "execution_count": 6,
   "metadata": {},
   "outputs": [
    {
     "name": "stdout",
     "output_type": "stream",
     "text": [
      "The number of flops a CPU can use to process the ultrasound signal is: 7792207 flops\n",
      "The number of flops a CPU can use to process the radar signal is: 40 flops\n"
     ]
    }
   ],
   "source": [
    "CPU_flops=600e6\n",
    "print(f\"The number of flops a CPU can use to process the ultrasound signal is: {int(CPU_flops*t_ultrasound_sec)} flops\")\n",
    "print(f\"The number of flops a CPU can use to process the radar signal is: {int(CPU_flops*t_radar_sec)} flops\")"
   ]
  }
 ],
 "metadata": {
  "kernelspec": {
   "display_name": "Python 3",
   "language": "python",
   "name": "python3"
  },
  "language_info": {
   "codemirror_mode": {
    "name": "ipython",
    "version": 3
   },
   "file_extension": ".py",
   "mimetype": "text/x-python",
   "name": "python",
   "nbconvert_exporter": "python",
   "pygments_lexer": "ipython3",
   "version": "3.8.3"
  }
 },
 "nbformat": 4,
 "nbformat_minor": 4
}
